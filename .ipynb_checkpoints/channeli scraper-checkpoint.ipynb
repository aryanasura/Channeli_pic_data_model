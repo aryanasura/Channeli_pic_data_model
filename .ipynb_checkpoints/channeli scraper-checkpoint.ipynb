{
 "cells": [
  {
   "cell_type": "code",
   "execution_count": 41,
   "id": "ec819682",
   "metadata": {},
   "outputs": [],
   "source": [
    "from aiohttp import request\n",
    "from pyparsing import htmlComment\n",
    "import requests\n",
    "from bs4 import BeautifulSoup\n",
    "import urllib3"
   ]
  },
  {
   "cell_type": "code",
   "execution_count": 2,
   "id": "d3d8630b",
   "metadata": {
    "scrolled": true
   },
   "outputs": [],
   "source": [
    "url='https://results.channeli.in/'\n",
    "r=requests.get(url)\n",
    "htmlcontent=r.content\n",
    "# print(htmlcontent)"
   ]
  },
  {
   "cell_type": "code",
   "execution_count": 3,
   "id": "8e0a2c57",
   "metadata": {},
   "outputs": [
    {
     "name": "stdout",
     "output_type": "stream",
     "text": [
      "https://results.channeli.in//2021/placement\n",
      "https://results.channeli.in//2021/internship\n",
      "https://results.channeli.in//2016\n",
      "https://results.channeli.in//2017\n",
      "https://results.channeli.in//2018\n",
      "https://results.channeli.in//2019\n",
      "https://results.channeli.in//2020\n",
      "https://results.channeli.in//2021\n",
      "https://results.channeli.in//2021/placement/branch\n",
      "https://results.channeli.in//2021/placement/company\n",
      "https://results.channeli.in//2021/placement/department\n",
      "https://results.channeli.in//2021/placement/branch/118_students.html\n",
      "https://results.channeli.in//2021/placement/branch/118_companies.html\n",
      "https://results.channeli.in//2021/placement/branch/119_students.html\n",
      "https://results.channeli.in//2021/placement/branch/119_companies.html\n",
      "https://results.channeli.in//2021/placement/branch/312_students.html\n",
      "https://results.channeli.in//2021/placement/branch/312_companies.html\n",
      "https://results.channeli.in//2021/placement/branch/114_students.html\n",
      "https://results.channeli.in//2021/placement/branch/114_companies.html\n",
      "https://results.channeli.in//2021/placement/branch/115_students.html\n",
      "https://results.channeli.in//2021/placement/branch/115_companies.html\n",
      "https://results.channeli.in//2021/placement/branch/116_students.html\n",
      "https://results.channeli.in//2021/placement/branch/116_companies.html\n",
      "https://results.channeli.in//2021/placement/branch/113_students.html\n",
      "https://results.channeli.in//2021/placement/branch/113_companies.html\n",
      "https://results.channeli.in//2021/placement/branch/117_students.html\n",
      "https://results.channeli.in//2021/placement/branch/117_companies.html\n",
      "https://results.channeli.in//2021/placement/branch/411_students.html\n",
      "https://results.channeli.in//2021/placement/branch/411_companies.html\n",
      "https://results.channeli.in//2021/placement/branch/112_students.html\n",
      "https://results.channeli.in//2021/placement/branch/112_companies.html\n",
      "https://results.channeli.in//2021/placement/branch/123_students.html\n",
      "https://results.channeli.in//2021/placement/branch/123_companies.html\n",
      "https://results.channeli.in//2021/placement/branch/410_students.html\n",
      "https://results.channeli.in//2021/placement/branch/410_companies.html\n",
      "https://results.channeli.in//2021/placement/branch/122_students.html\n",
      "https://results.channeli.in//2021/placement/branch/122_companies.html\n",
      "https://results.channeli.in//2021/placement/branch/311_students.html\n",
      "https://results.channeli.in//2021/placement/branch/311_companies.html\n",
      "https://results.channeli.in//2021/placement/branch/914_students.html\n",
      "https://results.channeli.in//2021/placement/branch/914_companies.html\n",
      "https://results.channeli.in//2021/placement/branch/530_students.html\n",
      "https://results.channeli.in//2021/placement/branch/530_companies.html\n",
      "https://results.channeli.in//2021/placement/branch/519_students.html\n",
      "https://results.channeli.in//2021/placement/branch/519_companies.html\n",
      "https://results.channeli.in//2021/placement/branch/111_students.html\n",
      "https://results.channeli.in//2021/placement/branch/111_companies.html\n",
      "https://results.channeli.in//2021/placement/branch/534_students.html\n",
      "https://results.channeli.in//2021/placement/branch/534_companies.html\n",
      "https://results.channeli.in//2021/placement/branch/612_students.html\n",
      "https://results.channeli.in//2021/placement/branch/612_companies.html\n",
      "https://results.channeli.in//2021/placement/branch/535_students.html\n",
      "https://results.channeli.in//2021/placement/branch/535_companies.html\n",
      "https://results.channeli.in//2021/placement/branch/539_students.html\n",
      "https://results.channeli.in//2021/placement/branch/539_companies.html\n",
      "https://results.channeli.in//2021/placement/branch/110_students.html\n",
      "https://results.channeli.in//2021/placement/branch/110_companies.html\n",
      "https://results.channeli.in//2021/placement/branch/545_students.html\n",
      "https://results.channeli.in//2021/placement/branch/545_companies.html\n",
      "https://results.channeli.in//2021/placement/branch/531_students.html\n",
      "https://results.channeli.in//2021/placement/branch/531_companies.html\n",
      "https://results.channeli.in//2021/placement/branch/528_students.html\n",
      "https://results.channeli.in//2021/placement/branch/528_companies.html\n",
      "https://results.channeli.in//2021/placement/branch/529_students.html\n",
      "https://results.channeli.in//2021/placement/branch/529_companies.html\n",
      "https://results.channeli.in//2021/placement/branch/533_students.html\n",
      "https://results.channeli.in//2021/placement/branch/533_companies.html\n",
      "https://results.channeli.in//2021/placement/branch/527_students.html\n",
      "https://results.channeli.in//2021/placement/branch/527_companies.html\n",
      "https://results.channeli.in//2021/placement/branch/222_students.html\n",
      "https://results.channeli.in//2021/placement/branch/222_companies.html\n",
      "https://results.channeli.in//2021/placement/branch/224_students.html\n",
      "https://results.channeli.in//2021/placement/branch/224_companies.html\n",
      "https://results.channeli.in//2021/placement/branch/541_students.html\n",
      "https://results.channeli.in//2021/placement/branch/541_companies.html\n",
      "https://results.channeli.in//2021/placement/branch/538_students.html\n",
      "https://results.channeli.in//2021/placement/branch/538_companies.html\n",
      "https://results.channeli.in//2021/placement/branch/310_students.html\n",
      "https://results.channeli.in//2021/placement/branch/310_companies.html\n",
      "https://results.channeli.in//2021/placement/branch/562_students.html\n",
      "https://results.channeli.in//2021/placement/branch/562_companies.html\n",
      "https://results.channeli.in//2021/placement/branch/227_students.html\n",
      "https://results.channeli.in//2021/placement/branch/227_companies.html\n",
      "https://results.channeli.in//2021/placement/branch/520_students.html\n",
      "https://results.channeli.in//2021/placement/branch/520_companies.html\n",
      "https://results.channeli.in//2021/placement/branch/617_students.html\n",
      "https://results.channeli.in//2021/placement/branch/617_companies.html\n",
      "https://results.channeli.in//2021/placement/branch/523_students.html\n",
      "https://results.channeli.in//2021/placement/branch/523_companies.html\n",
      "https://results.channeli.in//2021/placement/branch/526_students.html\n",
      "https://results.channeli.in//2021/placement/branch/526_companies.html\n",
      "https://results.channeli.in//2021/placement/branch/544_students.html\n",
      "https://results.channeli.in//2021/placement/branch/544_companies.html\n",
      "https://results.channeli.in//2021/placement/branch/525_students.html\n",
      "https://results.channeli.in//2021/placement/branch/525_companies.html\n",
      "https://results.channeli.in//2021/placement/branch/548_students.html\n",
      "https://results.channeli.in//2021/placement/branch/548_companies.html\n",
      "https://results.channeli.in//2021/placement/branch/546_students.html\n",
      "https://results.channeli.in//2021/placement/branch/546_companies.html\n",
      "https://results.channeli.in//2021/placement/branch/810_students.html\n",
      "https://results.channeli.in//2021/placement/branch/810_companies.html\n",
      "https://results.channeli.in//2021/placement/branch/616_students.html\n",
      "https://results.channeli.in//2021/placement/branch/616_companies.html\n",
      "https://results.channeli.in//2021/placement/branch/556_students.html\n",
      "https://results.channeli.in//2021/placement/branch/556_companies.html\n",
      "https://results.channeli.in//2021/placement/branch/559_students.html\n",
      "https://results.channeli.in//2021/placement/branch/559_companies.html\n",
      "https://results.channeli.in//2021/placement/branch/561_students.html\n",
      "https://results.channeli.in//2021/placement/branch/561_companies.html\n",
      "https://results.channeli.in//2021/placement/branch/555_students.html\n",
      "https://results.channeli.in//2021/placement/branch/555_companies.html\n",
      "https://results.channeli.in//2021/placement/branch/522_students.html\n",
      "https://results.channeli.in//2021/placement/branch/522_companies.html\n",
      "https://results.channeli.in//2021/placement/branch/540_students.html\n",
      "https://results.channeli.in//2021/placement/branch/540_companies.html\n",
      "https://results.channeli.in//2021/placement/branch/610_students.html\n",
      "https://results.channeli.in//2021/placement/branch/610_companies.html\n",
      "https://results.channeli.in//2021/placement/branch/615_students.html\n",
      "https://results.channeli.in//2021/placement/branch/615_companies.html\n",
      "https://results.channeli.in//2021/placement/branch/923_students.html\n",
      "https://results.channeli.in//2021/placement/branch/923_companies.html\n",
      "https://results.channeli.in//2021/placement/branch/557_students.html\n",
      "https://results.channeli.in//2021/placement/branch/557_companies.html\n",
      "https://results.channeli.in//2021/placement/branch/552_students.html\n",
      "https://results.channeli.in//2021/placement/branch/552_companies.html\n",
      "https://results.channeli.in//2021/placement/branch/553_students.html\n",
      "https://results.channeli.in//2021/placement/branch/553_companies.html\n",
      "https://results.channeli.in//2021/placement/branch/919_students.html\n",
      "https://results.channeli.in//2021/placement/branch/919_companies.html\n",
      "https://results.channeli.in//2021/placement/branch/611_students.html\n",
      "https://results.channeli.in//2021/placement/branch/611_companies.html\n",
      "https://results.channeli.in//2021/placement/branch/547_students.html\n",
      "https://results.channeli.in//2021/placement/branch/547_companies.html\n",
      "https://results.channeli.in//2021/placement/branch/920_students.html\n",
      "https://results.channeli.in//2021/placement/branch/920_companies.html\n"
     ]
    }
   ],
   "source": [
    "soup=BeautifulSoup(htmlcontent,'html.parser')\n",
    "allanchortags=soup.find_all('a')\n",
    "all_links=[]\n",
    "\n",
    "for link in allanchortags:\n",
    "        link_text=\"https://results.channeli.in/\" + link.get('href')\n",
    "        all_links.append(link_text)\n",
    "        print(link_text)\n",
    "     \n",
    "a_link=[]   \n",
    "for x in allanchortags:\n",
    "    a_link.append(x)\n",
    "    \n",
    "    "
   ]
  },
  {
   "cell_type": "markdown",
   "id": "9ca61cbc",
   "metadata": {},
   "source": [
    "# All years internship and placement data link\n",
    "Here we get all links to internship and placement data of each year from 2016 to 2021"
   ]
  },
  {
   "cell_type": "code",
   "execution_count": 4,
   "id": "648687b7",
   "metadata": {
    "scrolled": true
   },
   "outputs": [
    {
     "name": "stdout",
     "output_type": "stream",
     "text": [
      "https://results.channeli.in//2021/placement\n",
      "https://results.channeli.in//2021/internship\n",
      "https://results.channeli.in//2016\n",
      "https://results.channeli.in//2017\n",
      "https://results.channeli.in//2018\n",
      "https://results.channeli.in//2019\n",
      "https://results.channeli.in//2020\n",
      "https://results.channeli.in//2021\n",
      "https://results.channeli.in//2021/placement/branch\n",
      "https://results.channeli.in//2021/placement/company\n",
      "https://results.channeli.in//2021/placement/department\n",
      "https://results.channeli.in//2021/placement/branch/118_students.html\n",
      "https://results.channeli.in//2021/placement/branch/118_companies.html\n",
      "https://results.channeli.in//2021/placement/branch/119_students.html\n",
      "https://results.channeli.in//2021/placement/branch/119_companies.html\n",
      "https://results.channeli.in//2021/placement/branch/312_students.html\n",
      "https://results.channeli.in//2021/placement/branch/312_companies.html\n",
      "https://results.channeli.in//2021/placement/branch/114_students.html\n",
      "https://results.channeli.in//2021/placement/branch/114_companies.html\n",
      "https://results.channeli.in//2021/placement/branch/115_students.html\n",
      "https://results.channeli.in//2021/placement/branch/115_companies.html\n",
      "https://results.channeli.in//2021/placement/branch/116_students.html\n",
      "https://results.channeli.in//2021/placement/branch/116_companies.html\n",
      "https://results.channeli.in//2021/placement/branch/113_students.html\n",
      "https://results.channeli.in//2021/placement/branch/113_companies.html\n",
      "https://results.channeli.in//2021/placement/branch/117_students.html\n",
      "https://results.channeli.in//2021/placement/branch/117_companies.html\n",
      "https://results.channeli.in//2021/placement/branch/411_students.html\n",
      "https://results.channeli.in//2021/placement/branch/411_companies.html\n",
      "https://results.channeli.in//2021/placement/branch/112_students.html\n",
      "https://results.channeli.in//2021/placement/branch/112_companies.html\n",
      "https://results.channeli.in//2021/placement/branch/123_students.html\n",
      "https://results.channeli.in//2021/placement/branch/123_companies.html\n",
      "https://results.channeli.in//2021/placement/branch/410_students.html\n",
      "https://results.channeli.in//2021/placement/branch/410_companies.html\n",
      "https://results.channeli.in//2021/placement/branch/122_students.html\n",
      "https://results.channeli.in//2021/placement/branch/122_companies.html\n",
      "https://results.channeli.in//2021/placement/branch/311_students.html\n",
      "https://results.channeli.in//2021/placement/branch/311_companies.html\n",
      "https://results.channeli.in//2021/placement/branch/914_students.html\n",
      "https://results.channeli.in//2021/placement/branch/914_companies.html\n",
      "https://results.channeli.in//2021/placement/branch/530_students.html\n",
      "https://results.channeli.in//2021/placement/branch/530_companies.html\n",
      "https://results.channeli.in//2021/placement/branch/519_students.html\n",
      "https://results.channeli.in//2021/placement/branch/519_companies.html\n",
      "https://results.channeli.in//2021/placement/branch/111_students.html\n",
      "https://results.channeli.in//2021/placement/branch/111_companies.html\n",
      "https://results.channeli.in//2021/placement/branch/534_students.html\n",
      "https://results.channeli.in//2021/placement/branch/534_companies.html\n",
      "https://results.channeli.in//2021/placement/branch/612_students.html\n",
      "https://results.channeli.in//2021/placement/branch/612_companies.html\n",
      "https://results.channeli.in//2021/placement/branch/535_students.html\n",
      "https://results.channeli.in//2021/placement/branch/535_companies.html\n",
      "https://results.channeli.in//2021/placement/branch/539_students.html\n",
      "https://results.channeli.in//2021/placement/branch/539_companies.html\n",
      "https://results.channeli.in//2021/placement/branch/110_students.html\n",
      "https://results.channeli.in//2021/placement/branch/110_companies.html\n",
      "https://results.channeli.in//2021/placement/branch/545_students.html\n",
      "https://results.channeli.in//2021/placement/branch/545_companies.html\n",
      "https://results.channeli.in//2021/placement/branch/531_students.html\n",
      "https://results.channeli.in//2021/placement/branch/531_companies.html\n",
      "https://results.channeli.in//2021/placement/branch/528_students.html\n",
      "https://results.channeli.in//2021/placement/branch/528_companies.html\n",
      "https://results.channeli.in//2021/placement/branch/529_students.html\n",
      "https://results.channeli.in//2021/placement/branch/529_companies.html\n",
      "https://results.channeli.in//2021/placement/branch/533_students.html\n",
      "https://results.channeli.in//2021/placement/branch/533_companies.html\n",
      "https://results.channeli.in//2021/placement/branch/527_students.html\n",
      "https://results.channeli.in//2021/placement/branch/527_companies.html\n",
      "https://results.channeli.in//2021/placement/branch/222_students.html\n",
      "https://results.channeli.in//2021/placement/branch/222_companies.html\n",
      "https://results.channeli.in//2021/placement/branch/224_students.html\n",
      "https://results.channeli.in//2021/placement/branch/224_companies.html\n",
      "https://results.channeli.in//2021/placement/branch/541_students.html\n",
      "https://results.channeli.in//2021/placement/branch/541_companies.html\n",
      "https://results.channeli.in//2021/placement/branch/538_students.html\n",
      "https://results.channeli.in//2021/placement/branch/538_companies.html\n",
      "https://results.channeli.in//2021/placement/branch/310_students.html\n",
      "https://results.channeli.in//2021/placement/branch/310_companies.html\n",
      "https://results.channeli.in//2021/placement/branch/562_students.html\n",
      "https://results.channeli.in//2021/placement/branch/562_companies.html\n",
      "https://results.channeli.in//2021/placement/branch/227_students.html\n",
      "https://results.channeli.in//2021/placement/branch/227_companies.html\n",
      "https://results.channeli.in//2021/placement/branch/520_students.html\n",
      "https://results.channeli.in//2021/placement/branch/520_companies.html\n",
      "https://results.channeli.in//2021/placement/branch/617_students.html\n",
      "https://results.channeli.in//2021/placement/branch/617_companies.html\n",
      "https://results.channeli.in//2021/placement/branch/523_students.html\n",
      "https://results.channeli.in//2021/placement/branch/523_companies.html\n",
      "https://results.channeli.in//2021/placement/branch/526_students.html\n",
      "https://results.channeli.in//2021/placement/branch/526_companies.html\n",
      "https://results.channeli.in//2021/placement/branch/544_students.html\n",
      "https://results.channeli.in//2021/placement/branch/544_companies.html\n",
      "https://results.channeli.in//2021/placement/branch/525_students.html\n",
      "https://results.channeli.in//2021/placement/branch/525_companies.html\n",
      "https://results.channeli.in//2021/placement/branch/548_students.html\n",
      "https://results.channeli.in//2021/placement/branch/548_companies.html\n",
      "https://results.channeli.in//2021/placement/branch/546_students.html\n",
      "https://results.channeli.in//2021/placement/branch/546_companies.html\n",
      "https://results.channeli.in//2021/placement/branch/810_students.html\n",
      "https://results.channeli.in//2021/placement/branch/810_companies.html\n",
      "https://results.channeli.in//2021/placement/branch/616_students.html\n",
      "https://results.channeli.in//2021/placement/branch/616_companies.html\n",
      "https://results.channeli.in//2021/placement/branch/556_students.html\n",
      "https://results.channeli.in//2021/placement/branch/556_companies.html\n",
      "https://results.channeli.in//2021/placement/branch/559_students.html\n",
      "https://results.channeli.in//2021/placement/branch/559_companies.html\n",
      "https://results.channeli.in//2021/placement/branch/561_students.html\n",
      "https://results.channeli.in//2021/placement/branch/561_companies.html\n",
      "https://results.channeli.in//2021/placement/branch/555_students.html\n",
      "https://results.channeli.in//2021/placement/branch/555_companies.html\n",
      "https://results.channeli.in//2021/placement/branch/522_students.html\n",
      "https://results.channeli.in//2021/placement/branch/522_companies.html\n",
      "https://results.channeli.in//2021/placement/branch/540_students.html\n",
      "https://results.channeli.in//2021/placement/branch/540_companies.html\n",
      "https://results.channeli.in//2021/placement/branch/610_students.html\n",
      "https://results.channeli.in//2021/placement/branch/610_companies.html\n",
      "https://results.channeli.in//2021/placement/branch/615_students.html\n",
      "https://results.channeli.in//2021/placement/branch/615_companies.html\n",
      "https://results.channeli.in//2021/placement/branch/923_students.html\n",
      "https://results.channeli.in//2021/placement/branch/923_companies.html\n",
      "https://results.channeli.in//2021/placement/branch/557_students.html\n",
      "https://results.channeli.in//2021/placement/branch/557_companies.html\n",
      "https://results.channeli.in//2021/placement/branch/552_students.html\n",
      "https://results.channeli.in//2021/placement/branch/552_companies.html\n",
      "https://results.channeli.in//2021/placement/branch/553_students.html\n",
      "https://results.channeli.in//2021/placement/branch/553_companies.html\n",
      "https://results.channeli.in//2021/placement/branch/919_students.html\n",
      "https://results.channeli.in//2021/placement/branch/919_companies.html\n",
      "https://results.channeli.in//2021/placement/branch/611_students.html\n",
      "https://results.channeli.in//2021/placement/branch/611_companies.html\n",
      "https://results.channeli.in//2021/placement/branch/547_students.html\n",
      "https://results.channeli.in//2021/placement/branch/547_companies.html\n",
      "https://results.channeli.in//2021/placement/branch/920_students.html\n",
      "https://results.channeli.in//2021/placement/branch/920_companies.html\n"
     ]
    }
   ],
   "source": [
    "for x in all_links:\n",
    "    print(x)"
   ]
  },
  {
   "cell_type": "markdown",
   "id": "b0117c75",
   "metadata": {},
   "source": [
    "These are link to internship and placement page"
   ]
  },
  {
   "cell_type": "code",
   "execution_count": 5,
   "id": "4a93b2dd",
   "metadata": {},
   "outputs": [
    {
     "data": {
      "text/plain": [
       "['https://results.channeli.in//2016',\n",
       " 'https://results.channeli.in//2017',\n",
       " 'https://results.channeli.in//2018',\n",
       " 'https://results.channeli.in//2019',\n",
       " 'https://results.channeli.in//2020',\n",
       " 'https://results.channeli.in//2021',\n",
       " 'https://results.channeli.in//2021/placement/branch',\n",
       " 'https://results.channeli.in//2021/placement/company',\n",
       " 'https://results.channeli.in//2021/placement/department',\n",
       " 'https://results.channeli.in//2021/placement/branch/118_students.html',\n",
       " 'https://results.channeli.in//2021/placement/branch/118_companies.html',\n",
       " 'https://results.channeli.in//2021/placement/branch/119_students.html',\n",
       " 'https://results.channeli.in//2021/placement/branch/119_companies.html',\n",
       " 'https://results.channeli.in//2021/placement/branch/312_students.html',\n",
       " 'https://results.channeli.in//2021/placement/branch/312_companies.html',\n",
       " 'https://results.channeli.in//2021/placement/branch/114_students.html',\n",
       " 'https://results.channeli.in//2021/placement/branch/114_companies.html',\n",
       " 'https://results.channeli.in//2021/placement/branch/115_students.html',\n",
       " 'https://results.channeli.in//2021/placement/branch/115_companies.html',\n",
       " 'https://results.channeli.in//2021/placement/branch/116_students.html',\n",
       " 'https://results.channeli.in//2021/placement/branch/116_companies.html',\n",
       " 'https://results.channeli.in//2021/placement/branch/113_students.html',\n",
       " 'https://results.channeli.in//2021/placement/branch/113_companies.html',\n",
       " 'https://results.channeli.in//2021/placement/branch/117_students.html',\n",
       " 'https://results.channeli.in//2021/placement/branch/117_companies.html',\n",
       " 'https://results.channeli.in//2021/placement/branch/411_students.html',\n",
       " 'https://results.channeli.in//2021/placement/branch/411_companies.html',\n",
       " 'https://results.channeli.in//2021/placement/branch/112_students.html',\n",
       " 'https://results.channeli.in//2021/placement/branch/112_companies.html',\n",
       " 'https://results.channeli.in//2021/placement/branch/123_students.html',\n",
       " 'https://results.channeli.in//2021/placement/branch/123_companies.html',\n",
       " 'https://results.channeli.in//2021/placement/branch/410_students.html',\n",
       " 'https://results.channeli.in//2021/placement/branch/410_companies.html',\n",
       " 'https://results.channeli.in//2021/placement/branch/122_students.html',\n",
       " 'https://results.channeli.in//2021/placement/branch/122_companies.html',\n",
       " 'https://results.channeli.in//2021/placement/branch/311_students.html',\n",
       " 'https://results.channeli.in//2021/placement/branch/311_companies.html',\n",
       " 'https://results.channeli.in//2021/placement/branch/914_students.html',\n",
       " 'https://results.channeli.in//2021/placement/branch/914_companies.html',\n",
       " 'https://results.channeli.in//2021/placement/branch/530_students.html',\n",
       " 'https://results.channeli.in//2021/placement/branch/530_companies.html',\n",
       " 'https://results.channeli.in//2021/placement/branch/519_students.html',\n",
       " 'https://results.channeli.in//2021/placement/branch/519_companies.html',\n",
       " 'https://results.channeli.in//2021/placement/branch/111_students.html',\n",
       " 'https://results.channeli.in//2021/placement/branch/111_companies.html',\n",
       " 'https://results.channeli.in//2021/placement/branch/534_students.html',\n",
       " 'https://results.channeli.in//2021/placement/branch/534_companies.html',\n",
       " 'https://results.channeli.in//2021/placement/branch/612_students.html',\n",
       " 'https://results.channeli.in//2021/placement/branch/612_companies.html',\n",
       " 'https://results.channeli.in//2021/placement/branch/535_students.html',\n",
       " 'https://results.channeli.in//2021/placement/branch/535_companies.html',\n",
       " 'https://results.channeli.in//2021/placement/branch/539_students.html',\n",
       " 'https://results.channeli.in//2021/placement/branch/539_companies.html',\n",
       " 'https://results.channeli.in//2021/placement/branch/110_students.html',\n",
       " 'https://results.channeli.in//2021/placement/branch/110_companies.html',\n",
       " 'https://results.channeli.in//2021/placement/branch/545_students.html',\n",
       " 'https://results.channeli.in//2021/placement/branch/545_companies.html',\n",
       " 'https://results.channeli.in//2021/placement/branch/531_students.html',\n",
       " 'https://results.channeli.in//2021/placement/branch/531_companies.html',\n",
       " 'https://results.channeli.in//2021/placement/branch/528_students.html',\n",
       " 'https://results.channeli.in//2021/placement/branch/528_companies.html',\n",
       " 'https://results.channeli.in//2021/placement/branch/529_students.html',\n",
       " 'https://results.channeli.in//2021/placement/branch/529_companies.html',\n",
       " 'https://results.channeli.in//2021/placement/branch/533_students.html',\n",
       " 'https://results.channeli.in//2021/placement/branch/533_companies.html',\n",
       " 'https://results.channeli.in//2021/placement/branch/527_students.html',\n",
       " 'https://results.channeli.in//2021/placement/branch/527_companies.html',\n",
       " 'https://results.channeli.in//2021/placement/branch/222_students.html',\n",
       " 'https://results.channeli.in//2021/placement/branch/222_companies.html',\n",
       " 'https://results.channeli.in//2021/placement/branch/224_students.html',\n",
       " 'https://results.channeli.in//2021/placement/branch/224_companies.html',\n",
       " 'https://results.channeli.in//2021/placement/branch/541_students.html',\n",
       " 'https://results.channeli.in//2021/placement/branch/541_companies.html',\n",
       " 'https://results.channeli.in//2021/placement/branch/538_students.html',\n",
       " 'https://results.channeli.in//2021/placement/branch/538_companies.html',\n",
       " 'https://results.channeli.in//2021/placement/branch/310_students.html',\n",
       " 'https://results.channeli.in//2021/placement/branch/310_companies.html',\n",
       " 'https://results.channeli.in//2021/placement/branch/562_students.html',\n",
       " 'https://results.channeli.in//2021/placement/branch/562_companies.html',\n",
       " 'https://results.channeli.in//2021/placement/branch/227_students.html',\n",
       " 'https://results.channeli.in//2021/placement/branch/227_companies.html',\n",
       " 'https://results.channeli.in//2021/placement/branch/520_students.html',\n",
       " 'https://results.channeli.in//2021/placement/branch/520_companies.html',\n",
       " 'https://results.channeli.in//2021/placement/branch/617_students.html',\n",
       " 'https://results.channeli.in//2021/placement/branch/617_companies.html',\n",
       " 'https://results.channeli.in//2021/placement/branch/523_students.html',\n",
       " 'https://results.channeli.in//2021/placement/branch/523_companies.html',\n",
       " 'https://results.channeli.in//2021/placement/branch/526_students.html',\n",
       " 'https://results.channeli.in//2021/placement/branch/526_companies.html',\n",
       " 'https://results.channeli.in//2021/placement/branch/544_students.html',\n",
       " 'https://results.channeli.in//2021/placement/branch/544_companies.html',\n",
       " 'https://results.channeli.in//2021/placement/branch/525_students.html',\n",
       " 'https://results.channeli.in//2021/placement/branch/525_companies.html',\n",
       " 'https://results.channeli.in//2021/placement/branch/548_students.html',\n",
       " 'https://results.channeli.in//2021/placement/branch/548_companies.html',\n",
       " 'https://results.channeli.in//2021/placement/branch/546_students.html',\n",
       " 'https://results.channeli.in//2021/placement/branch/546_companies.html',\n",
       " 'https://results.channeli.in//2021/placement/branch/810_students.html',\n",
       " 'https://results.channeli.in//2021/placement/branch/810_companies.html',\n",
       " 'https://results.channeli.in//2021/placement/branch/616_students.html',\n",
       " 'https://results.channeli.in//2021/placement/branch/616_companies.html',\n",
       " 'https://results.channeli.in//2021/placement/branch/556_students.html',\n",
       " 'https://results.channeli.in//2021/placement/branch/556_companies.html',\n",
       " 'https://results.channeli.in//2021/placement/branch/559_students.html',\n",
       " 'https://results.channeli.in//2021/placement/branch/559_companies.html',\n",
       " 'https://results.channeli.in//2021/placement/branch/561_students.html',\n",
       " 'https://results.channeli.in//2021/placement/branch/561_companies.html',\n",
       " 'https://results.channeli.in//2021/placement/branch/555_students.html',\n",
       " 'https://results.channeli.in//2021/placement/branch/555_companies.html',\n",
       " 'https://results.channeli.in//2021/placement/branch/522_students.html',\n",
       " 'https://results.channeli.in//2021/placement/branch/522_companies.html',\n",
       " 'https://results.channeli.in//2021/placement/branch/540_students.html',\n",
       " 'https://results.channeli.in//2021/placement/branch/540_companies.html',\n",
       " 'https://results.channeli.in//2021/placement/branch/610_students.html',\n",
       " 'https://results.channeli.in//2021/placement/branch/610_companies.html',\n",
       " 'https://results.channeli.in//2021/placement/branch/615_students.html',\n",
       " 'https://results.channeli.in//2021/placement/branch/615_companies.html',\n",
       " 'https://results.channeli.in//2021/placement/branch/923_students.html',\n",
       " 'https://results.channeli.in//2021/placement/branch/923_companies.html',\n",
       " 'https://results.channeli.in//2021/placement/branch/557_students.html',\n",
       " 'https://results.channeli.in//2021/placement/branch/557_companies.html',\n",
       " 'https://results.channeli.in//2021/placement/branch/552_students.html',\n",
       " 'https://results.channeli.in//2021/placement/branch/552_companies.html',\n",
       " 'https://results.channeli.in//2021/placement/branch/553_students.html',\n",
       " 'https://results.channeli.in//2021/placement/branch/553_companies.html',\n",
       " 'https://results.channeli.in//2021/placement/branch/919_students.html',\n",
       " 'https://results.channeli.in//2021/placement/branch/919_companies.html',\n",
       " 'https://results.channeli.in//2021/placement/branch/611_students.html',\n",
       " 'https://results.channeli.in//2021/placement/branch/611_companies.html',\n",
       " 'https://results.channeli.in//2021/placement/branch/547_students.html',\n",
       " 'https://results.channeli.in//2021/placement/branch/547_companies.html',\n",
       " 'https://results.channeli.in//2021/placement/branch/920_students.html',\n",
       " 'https://results.channeli.in//2021/placement/branch/920_companies.html']"
      ]
     },
     "execution_count": 5,
     "metadata": {},
     "output_type": "execute_result"
    }
   ],
   "source": [
    "all_links.pop(0)\n",
    "all_links.pop(0)\n",
    "all_links"
   ]
  },
  {
   "cell_type": "code",
   "execution_count": 6,
   "id": "7065dca7",
   "metadata": {
    "scrolled": true
   },
   "outputs": [
    {
     "data": {
      "text/plain": [
       "['https://results.channeli.in//2016',\n",
       " 'https://results.channeli.in//2017',\n",
       " 'https://results.channeli.in//2018',\n",
       " 'https://results.channeli.in//2019',\n",
       " 'https://results.channeli.in//2020',\n",
       " 'https://results.channeli.in//2021']"
      ]
     },
     "execution_count": 6,
     "metadata": {},
     "output_type": "execute_result"
    }
   ],
   "source": [
    "years_data=all_links[0:6]\n",
    "years_data"
   ]
  },
  {
   "cell_type": "code",
   "execution_count": 10,
   "id": "3fcaa289",
   "metadata": {
    "scrolled": false
   },
   "outputs": [
    {
     "name": "stdout",
     "output_type": "stream",
     "text": [
      "['https://results.channeli.in//2016/placement/', 'https://results.channeli.in//2016/internship/']\n",
      "['https://results.channeli.in//2017/placement/', 'https://results.channeli.in//2017/internship/']\n",
      "['https://results.channeli.in//2018/placement/', 'https://results.channeli.in//2018/internship/']\n",
      "['https://results.channeli.in//2019/placement/', 'https://results.channeli.in//2019/internship/']\n",
      "['https://results.channeli.in//2020/placement/', 'https://results.channeli.in//2020/internship/']\n",
      "['https://results.channeli.in//2021/placement/', 'https://results.channeli.in//2021/internship/']\n"
     ]
    }
   ],
   "source": [
    "link_year={}\n",
    "for x in years_data:\n",
    "    link_year[x[-4:]]=[x+'/placement/',x+'/internship/']\n",
    "    print(link_year[x[-4:]])\n",
    "   "
   ]
  },
  {
   "cell_type": "raw",
   "id": "3be8a094",
   "metadata": {},
   "source": [
    "**NOTE**\n",
    "\n",
    "\n",
    "\"  link_year  \" is a dictionary who has a list that has links to intern and placement of that value data year"
   ]
  },
  {
   "cell_type": "code",
   "execution_count": 20,
   "id": "ae377227",
   "metadata": {},
   "outputs": [],
   "source": [
    "url1=\"https://results.channeli.in/2020/placement/branch/115_students.html\""
   ]
  },
  {
   "cell_type": "code",
   "execution_count": 21,
   "id": "fb5d1833",
   "metadata": {},
   "outputs": [
    {
     "name": "stdout",
     "output_type": "stream",
     "text": [
      "https://results.channeli.in/2020/placement/branch/115_students.html\n"
     ]
    }
   ],
   "source": [
    "print(url1)\n",
    "    "
   ]
  },
  {
   "cell_type": "code",
   "execution_count": 33,
   "id": "c96cf7c7",
   "metadata": {},
   "outputs": [],
   "source": [
    "r1=requests.get(url1)\n",
    "htmlcontent1=r1.content"
   ]
  },
  {
   "cell_type": "code",
   "execution_count": 34,
   "id": "6f120a39",
   "metadata": {},
   "outputs": [
    {
     "name": "stdout",
     "output_type": "stream",
     "text": [
      "b'<!DOCTYPE html>\\n<html>\\n  <head>\\n    <!-- Meta property -->\\n    <meta name=\"viewport\" content=\"width=1024\" />\\n    <link\\n      href=\"//internet.channeli.in/branding/site/favicon.ico\"\\n      rel=\"icon\"\\n      type=\"image/ico\"\\n    />\\n\\n    <!-- Assets -->\\n    <script src=\"/assets/sort-table.js\"></script>\\n    <link href=\"/assets/sort-table.css\" rel=\"stylesheet\" type=\"text/css\" />\\n    <link href=\"/assets/semantic.min.css\" rel=\"stylesheet\" type=\"text/css\" />\\n    <link href=\"/assets/index.css\" rel=\"stylesheet\" type=\"text/css\" />\\n\\n    <!-- Title -->\\n    <title>Results - Placement Online</title>\\n  </head>\\n  <body>\\n    <nav class=\"navbar\">\\n      <div class=\"ui container\">\\n        <h1>Results Portal</h1>\\n        <ul class=\"ui secondary pointing menu\">\\n          <li>\\n            <a href=\"/2020/placement\" class=\"item\" active=\"true\"\\n              >Placement</a\\n            >\\n          </li>\\n          <li>\\n            <a href=\"/2020/internship\" class=\"item\" active=\"$internship$\"\\n              >Internship</a\\n            >\\n          </li>\\n        </ul>\\n      </div>\\n    </nav>\\n    <div class=\"ui container\">\\n      <ul class=\"ui secondary pointing menu\">\\n        <li><a href=\"/2016\" class=\"item\" active=\"$2016$\">2016-17</a></li>\\n        <li><a href=\"/2017\" class=\"item\" active=\"$2017$\">2017-18</a></li>\\n        <li><a href=\"/2018\" class=\"item\" active=\"$2018$\">2018-19</a></li>\\n        <li><a href=\"/2019\" class=\"item\" active=\"$2019$\">2019-20</a></li>\\n        <li><a href=\"/2020\" class=\"item\" active=\"true\">2020-21</a></li>\\n      </ul>\\n      <div class=\"table-heading-container\">\\n        <ul class=\"ui secondary pointing menu\">\\n          <li>\\n            <a href=\"/2020/placement/branch\" class=\"item\" active=\"true\"\\n              >Branchwise</a\\n            >\\n          </li>\\n          <li>\\n            <a href=\"/2020/placement/company\" class=\"item\" active=\"$company$\"\\n              >Companywise</a\\n            >\\n          </li>\\n          <li>\\n            <a\\n              href=\"/2020/placement/department\"\\n              class=\"item\"\\n              active=\"$department$\"\\n              >Departmentwise</a\\n            >\\n          </li>\\n        </ul>\\n        <h3>Total Offers: <span class=\"blue-text\">818</span></h3>\\n      </div>\\n<table class=\"js-sort-table ui table compact striped\">\\n  <thead>\\n    <tr class=\"js-sort-number\">\\n      <th>\\n        S. No.\\n      </th>\\n      <th class=\"js-sort-number\">\\n        Enrolment No.\\n      </th>\\n      <th class=\"js-sort-string\">\\n        Name\\n      </th>\\n      <th class=\"js-sort-string\">\\n        Company\\n      </th>\\n      <th class=\"js-sort-string\">\\n        Accepted\\n      </th>\\n    </tr>\\n  </thead>\\n  <tbody><h2>Placement results for B.Tech. (Electrical Engineering)(2020-2021)</h2><tr><td>1</td><td>17117041</td><td>Kartica Modi</td><td>Microsoft (PPO)</td><td>Yes</td></tr><tr><td>2</td><td>17115081</td><td>Satyansh Kumar Rai</td><td>Jaguar Land Rover India (GSET) (Graduate Software Engineer Trainee)</td><td>Yes</td></tr><tr><td>3</td><td>17113096</td><td>Purvi Agarwal</td><td>Texas Instruments (PPO)</td><td>Yes</td></tr><tr><td>4</td><td>17115071</td><td>Raj Narnoli</td><td>Samsung Semiconductor India Research Center Bangalore (PPO)</td><td>Yes</td></tr><tr><td>5</td><td>17115079</td><td>Sarthak Gupta</td><td>Qualcomm India Pvt. Ltd. (PPO)</td><td>Yes</td></tr><tr><td>6</td><td>17115109</td><td>Vibhor Verma</td><td>Dream11 (Software Engineer)</td><td>Yes</td></tr><tr><td>7</td><td>17115033</td><td>Ebtasam Uddin Faridy</td><td>Myntra (PPO)</td><td>Yes</td></tr><tr><td>8</td><td>17115056</td><td>Mohit Kumar Gupta</td><td>ITC Limited (PPO)</td><td>Yes</td></tr><tr><td>9</td><td>17115076</td><td>Samarth Agarwal</td><td>Goldman Sachs (PPO)</td><td>Yes</td></tr><tr><td>10</td><td>17115091</td><td>Shreyansh Jain</td><td>Goldman Sachs (PPO)</td><td>Yes</td></tr><tr><td>11</td><td>17113048</td><td>Jatin Varshney</td><td>Adobe (Product - PPO)</td><td>Yes</td></tr><tr><td>12</td><td>17115104</td><td>Tanmaya Khandelwal</td><td>D. E. Shaw India Pvt. Ltd. (PPO)</td><td>Yes</td></tr><tr><td>13</td><td>17115004</td><td>Abhishek Karanath</td><td>Cisco Systems (SDE - PPO)</td><td>Yes</td></tr><tr><td>14</td><td>17115089</td><td>Shivansh Kumar</td><td>AppDynamics (SW - PPO)</td><td>Yes</td></tr><tr><td>15</td><td>17115050</td><td>Madugula Lohitha</td><td>Google (HW - PPO)</td><td>Yes</td></tr><tr><td>16</td><td>17115012</td><td>Anjaney Rai</td><td>Societe Generale Global Solution Center (PPO)</td><td>Yes</td></tr><tr><td>17</td><td>17115106</td><td>Tribhuvan Sharma</td><td>Samsung Research Institute, Bangalore (PPO)</td><td>Yes</td></tr><tr><td>18</td><td>17115078</td><td>Sanyam Agrawal</td><td>Samsung Research Institute, Bangalore (PPO)</td><td>Yes</td></tr><tr><td>19</td><td>17115001</td><td>Abhinav Byahut</td><td>Microsoft (Software Engineer)</td><td>No</td></tr><tr><td>20</td><td>17115019</td><td>Aryan Goyat</td><td>LG Ads (Technologist)</td><td>No</td></tr><tr><td>21</td><td>17115001</td><td>Abhinav Byahut</td><td>LG Ads (Technologist)</td><td>Yes</td></tr><tr><td>22</td><td>17115105</td><td>Tejas Gajanan Patil</td><td>LG Ads (Technologist)</td><td>Yes</td></tr><tr><td>23</td><td>17115053</td><td>Manoj Parihar</td><td>Microsoft (Software Engineer)</td><td>Yes</td></tr><tr><td>24</td><td>17115111</td><td>Vidit Agrawal</td><td>Microsoft (Software Engineer)</td><td>Yes</td></tr><tr><td>25</td><td>17115120</td><td>Yempati Bhavana</td><td>Microsoft (Software Engineer)</td><td>Yes</td></tr><tr><td>26</td><td>17115100</td><td>Suyash Jain</td><td>Microsoft (Software Engineer)</td><td>Yes</td></tr><tr><td>27</td><td>17115118</td><td>Vivek Harish Maheshwari</td><td>Microsoft (Software Engineer)</td><td>Yes</td></tr><tr><td>28</td><td>17115070</td><td>Rahul Kumar</td><td>Microsoft (Software Engineer)</td><td>Yes</td></tr><tr><td>29</td><td>17115019</td><td>Aryan Goyat</td><td>Goldman Sachs (Analyst)</td><td>Yes</td></tr><tr><td>30</td><td>17115040</td><td>Himani Jain</td><td>Goldman Sachs (Analyst)</td><td>Yes</td></tr><tr><td>31</td><td>17115026</td><td>Ayush Katiyar</td><td>AppDynamics (Software)</td><td>Yes</td></tr><tr><td>32</td><td>17115068</td><td>Purva Chiniya</td><td>Cisco Systems (SDE - FTE)</td><td>Yes</td></tr><tr><td>33</td><td>17115014</td><td>Ankit Bhati</td><td>Oracle India Pvt. Ltd. (Server Technology)</td><td>Yes</td></tr><tr><td>34</td><td>17115034</td><td>Etta Dheeraj Kumar Reddy</td><td>Bajaj Auto Ltd. (Graduate Trainee Engineer (GTE))</td><td>No</td></tr><tr><td>35</td><td>17115051</td><td>Malvika Agarwal</td><td>Flipkart (SDE-1)</td><td>Yes</td></tr><tr><td>36</td><td>17115024</td><td>Avneet Jain</td><td>Flipkart (SDE-1)</td><td>Yes</td></tr><tr><td>37</td><td>17115087</td><td>Shivam Nirmal</td><td>Jaguar Land Rover India (GEET) (Graduate Electronics Engineer Trainee)</td><td>Yes</td></tr><tr><td>38</td><td>17115093</td><td>Shubham Bihani</td><td>Jaguar Land Rover India (GEET) (Graduate Electronics Engineer Trainee)</td><td>Yes</td></tr><tr><td>39</td><td>17115034</td><td>Etta Dheeraj Kumar Reddy</td><td>Jaguar Land Rover India (GEET) (Graduate Electronics Engineer Trainee)</td><td>Yes</td></tr><tr><td>40</td><td>17115064</td><td>Potnuru Chanukya</td><td>Bajaj Auto Ltd. (Graduate Trainee Engineer (GTE))</td><td>Yes</td></tr><tr><td>41</td><td>17115103</td><td>Tanishk Saxena</td><td>Jaguar Land Rover India (GSET) (Graduate Software Engineer Trainee)</td><td>Yes</td></tr><tr><td>42</td><td>17115057</td><td>Mritunjay Gupta</td><td>Samsung Research Institute, Bangalore (Engineer (Developer))</td><td>Yes</td></tr><tr><td>43</td><td>17115031</td><td>Dhiraj Chhawchharia</td><td>Myntra (SE)</td><td>Yes</td></tr><tr><td>44</td><td>17115044</td><td>Jaiswal Shubham Vijaykumar</td><td>Myntra (SE)</td><td>Yes</td></tr><tr><td>45</td><td>17115107</td><td>Tushar Goyal</td><td>JP Morgan Chase & Co (Software Engineer Program)</td><td>Yes</td></tr><tr><td>46</td><td>17115086</td><td>Shivam Chopra</td><td>Fractal Analytics Pvt. Ltd. (Imagineer)</td><td>No</td></tr><tr><td>47</td><td>17115114</td><td>Vipul Goel</td><td>American Express (SDE -Engineer Trainee, Technology)</td><td>No</td></tr><tr><td>48</td><td>17115029</td><td>Bijender</td><td>JioSaavn Media Ltd (Software Engineer)</td><td>Yes</td></tr><tr><td>49</td><td>17115049</td><td>Madhur Rawat</td><td>Fractal Analytics Pvt. Ltd. (Imagineer)</td><td>Yes</td></tr><tr><td>50</td><td>17115114</td><td>Vipul Goel</td><td>Deutsche Bank (Graduate Analyst)</td><td>Yes</td></tr><tr><td>51</td><td>17115074</td><td>Risana Rasheed K</td><td>Deutsche Bank (Graduate Analyst)</td><td>No</td></tr><tr><td>52</td><td>17115074</td><td>Risana Rasheed K</td><td>Enphase Energy (Embedded + Cloud)</td><td>Yes</td></tr><tr><td>53</td><td>17115037</td><td>Gourav Kumar</td><td>JioSaavn Media Ltd (Software Engineer)</td><td>Yes</td></tr><tr><td>54</td><td>17115017</td><td>Anshu Pratap Singh</td><td>JioSaavn Media Ltd (Software Engineer)</td><td>Yes</td></tr><tr><td>55</td><td>17115086</td><td>Shivam Chopra</td><td>BNY Mellon (Software)</td><td>No</td></tr><tr><td>56</td><td>17115108</td><td>Ujjawal Sharma</td><td>Paytm (Software Engineer)</td><td>No</td></tr><tr><td>57</td><td>17115075</td><td>Rounik Balida</td><td>Citrix R&D India PVT LTD (Software Engineer 1 & 2)</td><td>Yes</td></tr><tr><td>58</td><td>17115049</td><td>Madhur Rawat</td><td>Citrix R&D India PVT LTD (Software Engineer 1 & 2)</td><td>No</td></tr><tr><td>59</td><td>17115003</td><td>Abhishek Bhadauria</td><td>Citrix R&D India PVT LTD (Software Engineer 1 & 2)</td><td>Yes</td></tr><tr><td>60</td><td>17115090</td><td>Shivanshu Gupta</td><td>BNY Mellon (Software)</td><td>Yes</td></tr><tr><td>61</td><td>17115086</td><td>Shivam Chopra</td><td>Societe Generale Global Solution Center (Software Engineer)</td><td>Yes</td></tr><tr><td>62</td><td>17115108</td><td>Ujjawal Sharma</td><td>Societe Generale Global Solution Center (Software Engineer)</td><td>Yes</td></tr><tr><td>63</td><td>17115069</td><td>Rahul Avinash Badwaik</td><td>Societe Generale Global Solution Center (Software Engineer)</td><td>Yes</td></tr><tr><td>64</td><td>17115030</td><td>Deepak Kumar</td><td>Societe Generale Global Solution Center (Software Engineer)</td><td>Yes</td></tr><tr><td>65</td><td>17115010</td><td>Alankrit Mahajan</td><td>EXL Service (Consultant I)</td><td>Yes</td></tr><tr><td>66</td><td>17115047</td><td>Kartik Chhimpa</td><td>EXL Service (Consultant I)</td><td>Yes</td></tr><tr><td>67</td><td>17115054</td><td>Mihir Narayan</td><td>Nference (Software Engineer / Data Science)</td><td>Yes</td></tr><tr><td>68</td><td>17115099</td><td>Sushil Kumar</td><td>Fareye (SDE)</td><td>Yes</td></tr><tr><td>69</td><td>17115046</td><td>Jeetendra Kumar</td><td>Fareye (SDE)</td><td>Yes</td></tr><tr><td>70</td><td>17117079</td><td>Shreeyash Geda</td><td>Bidgely (PPO)</td><td>Yes</td></tr><tr><td>71</td><td>17115038</td><td>Harshit Khetan</td><td>Flipkart (PPO)</td><td>Yes</td></tr><tr><td>72</td><td>17115077</td><td>Sanjeev</td><td>Swiggy-Bundl Technologies Pvt. Ltd. (SDE 1)</td><td>Yes</td></tr><tr><td>73</td><td>17115058</td><td>Navin Chandra Rai</td><td>Vedantu (SDE)</td><td>Yes</td></tr><tr><td>74</td><td>17115084</td><td>Shashank Gupta</td><td>Innoplexus (Associate Data Scientist)</td><td>Yes</td></tr><tr><td>75</td><td>17115119</td><td>Vivek Kumar</td><td>Effiya (Consulting)</td><td>Yes</td></tr><tr><td>76</td><td>17115072</td><td>Rajan Kumar</td><td>Larsen & Toubro Infotech Limited (Data Engineer)</td><td>Yes</td></tr><tr><td>77</td><td>17115097</td><td>Sudhir Rose</td><td>GE Healthcare (PPO)</td><td>Yes</td></tr><tr><td>78</td><td>17115032</td><td>Dinesh Pundlik Chavan</td><td>Chegg Inc (Software Engineer)</td><td>Yes</td></tr><tr><td>79</td><td>17115021</td><td>Ashish Anand</td><td>Times Internet Limited - ILN (Software Development)</td><td>Yes</td></tr><tr><td>80</td><td>17115022</td><td>Ashutosh Kumar Shukla</td><td>Quantiphi Analytics Solution Private Limited (Machine Learning Engineer,  Business Analyst)</td><td>Yes</td></tr><tr><td>81</td><td>17115009</td><td>Akash Verma</td><td>V3iT Consulting (Junior Software Engineer)</td><td>Yes</td></tr><tr><td>82</td><td>17115013</td><td>Ankit</td><td>Finnovation Tech Solutions Pvt. Ltd (Kreditbee/Krazybee) (Software Engg)</td><td>Yes</td></tr><tr><td>83</td><td>17115045</td><td>Jayti Saumya</td><td>Finnovation Tech Solutions Pvt. Ltd (Kreditbee/Krazybee) (Software Engg)</td><td>Yes</td></tr><tr><td>84</td><td>17115042</td><td>Ishneet Dhiman</td><td>MIKO (Jr. AI Development & NLP Engineer)</td><td>Yes</td></tr><tr><td>85</td><td>17115036</td><td>Gomati Prasad</td><td>CSRL (Academic Officer)</td><td>Yes</td></tr><tr><td>86</td><td>17115059</td><td>Nishant</td><td>Go Lorry Pvt Ltd (Frontend (Android and React) Engineer)</td><td>Yes</td></tr><tr><td>87</td><td>17115011</td><td>Aman Barya</td><td>Brigosha Technologies (Software Engineer (E-Mobilty and IoT))</td><td>Yes</td></tr><tr><td>88</td><td>17115092</td><td>Shruti Prafulla Nale</td><td>Cubastion Consulting (Associate Consultant)</td><td>Yes</td></tr><tr><td>89</td><td>17115043</td><td>Jagarlamudi Rajesh</td><td>HCL Technologies (ERS Software Engineer(HnC))</td><td>Yes</td></tr><tr><td>90</td><td>17115062</td><td>Parepalli Tharun Kumar</td><td>Netcracker Technology (Associate , Software Engineer)</td><td>No</td></tr><tr><td>91</td><td>17115006</td><td>Abhishek Sunil Pawar</td><td>Koo App (Bombinate Technologies Pvt. Ltd.) (Backend/iOS/Android Engineers)</td><td>Yes</td></tr><tr><td>92</td><td>17115008</td><td>Akash Kumar Yadav</td><td>SmartCoin Financials Pvt. Ltd. (Software Engineering,  Quality Engineering ,  Backend Engineering)</td><td>Yes</td></tr><tr><td>93</td><td>17115039</td><td>Harshit Yadav</td><td>SmartCoin Financials Pvt. Ltd. (Software Engineering,  Quality Engineering ,  Backend Engineering)</td><td>Yes</td></tr><tr><td>94</td><td>17115113</td><td>Vikram</td><td>Campus Management International Pvt Ltd (Software Developer)</td><td>Yes</td></tr><tr><td>95</td><td>17115052</td><td>Mangat Murmu</td><td>HCL Technologies Ltd. (Software Engineer)</td><td>Yes</td></tr><tr><td>96</td><td>17115096</td><td>Sourabh Prakash</td><td>HCL Technologies Ltd. (Software Engineer)</td><td>Yes</td></tr>  </tbody>\\n</table>    </div>\\n  </body>\\n</html>'\n"
     ]
    }
   ],
   "source": [
    "print(htmlcontent1)"
   ]
  },
  {
   "cell_type": "code",
   "execution_count": 38,
   "id": "81b820e1",
   "metadata": {},
   "outputs": [
    {
     "name": "stdout",
     "output_type": "stream",
     "text": [
      "[<tbody><tr><td>1</td><td>B.Tech.</td><td>B.Tech. (Metallurgical &amp; Materials Engineering)</td><td>55</td><td><a href=\"/2021/placement/branch/118_students.html\">View</a></td><td><a href=\"/2021/placement/branch/118_companies.html\">View</a></td></tr><tr><td>2</td><td>B.Tech.</td><td>B.Tech. (Production and Industrial Engineering)</td><td>33</td><td><a href=\"/2021/placement/branch/119_students.html\">View</a></td><td><a href=\"/2021/placement/branch/119_companies.html\">View</a></td></tr><tr><td>3</td><td>Int. M.Sc.</td><td>IMSc Applied Mathematics</td><td>24</td><td><a href=\"/2021/placement/branch/312_students.html\">View</a></td><td><a href=\"/2021/placement/branch/312_companies.html\">View</a></td></tr><tr><td>4</td><td>B.Tech.</td><td>B.Tech. (Computer Science and Engineering)</td><td>84</td><td><a href=\"/2021/placement/branch/114_students.html\">View</a></td><td><a href=\"/2021/placement/branch/114_companies.html\">View</a></td></tr><tr><td>5</td><td>B.Tech.</td><td>B.Tech. (Electrical Engineering)</td><td>124</td><td><a href=\"/2021/placement/branch/115_students.html\">View</a></td><td><a href=\"/2021/placement/branch/115_companies.html\">View</a></td></tr><tr><td>6</td><td>B.Tech.</td><td>B.Tech. (Electronics &amp; Communication Engineering)</td><td>86</td><td><a href=\"/2021/placement/branch/116_students.html\">View</a></td><td><a href=\"/2021/placement/branch/116_companies.html\">View</a></td></tr><tr><td>7</td><td>B.Tech.</td><td>B.Tech. (Civil Engineering)</td><td>93</td><td><a href=\"/2021/placement/branch/113_students.html\">View</a></td><td><a href=\"/2021/placement/branch/113_companies.html\">View</a></td></tr><tr><td>8</td><td>B.Tech.</td><td>B.Tech. (Mechanical Engineering)</td><td>103</td><td><a href=\"/2021/placement/branch/117_students.html\">View</a></td><td><a href=\"/2021/placement/branch/117_companies.html\">View</a></td></tr><tr><td>9</td><td>Int. M.Tech</td><td>Integrated M.Tech. Geophysical Technology</td><td>26</td><td><a href=\"/2021/placement/branch/411_students.html\">View</a></td><td><a href=\"/2021/placement/branch/411_companies.html\">View</a></td></tr><tr><td>10</td><td>B.Tech.</td><td>B.Tech. (Chemical Engineering)</td><td>86</td><td><a href=\"/2021/placement/branch/112_students.html\">View</a></td><td><a href=\"/2021/placement/branch/112_companies.html\">View</a></td></tr><tr><td>11</td><td>B.Tech.</td><td>B.Tech. (Engineering Physics)</td><td>19</td><td><a href=\"/2021/placement/branch/123_students.html\">View</a></td><td><a href=\"/2021/placement/branch/123_companies.html\">View</a></td></tr><tr><td>12</td><td>Int. M.Tech</td><td>Integrated M.Tech. Geological Technology</td><td>23</td><td><a href=\"/2021/placement/branch/410_students.html\">View</a></td><td><a href=\"/2021/placement/branch/410_companies.html\">View</a></td></tr><tr><td>13</td><td>B.Tech.</td><td>B.Tech. (Polymer Science and Engineering)</td><td>15</td><td><a href=\"/2021/placement/branch/122_students.html\">View</a></td><td><a href=\"/2021/placement/branch/122_companies.html\">View</a></td></tr><tr><td>14</td><td>Int. M.Sc.</td><td>IMSc Physics</td><td>16</td><td><a href=\"/2021/placement/branch/311_students.html\">View</a></td><td><a href=\"/2021/placement/branch/311_companies.html\">View</a></td></tr><tr><td>15</td><td>Ph.D.</td><td>Ph.D. Electrical Engineering Department</td><td>4</td><td><a href=\"/2021/placement/branch/914_students.html\">View</a></td><td><a href=\"/2021/placement/branch/914_companies.html\">View</a></td></tr><tr><td>16</td><td>M.Tech.</td><td>M.Tech. System and Control</td><td>6</td><td><a href=\"/2021/placement/branch/530_students.html\">View</a></td><td><a href=\"/2021/placement/branch/530_companies.html\">View</a></td></tr><tr><td>17</td><td>M.Tech.</td><td>M.Tech. Environmental Engineering</td><td>2</td><td><a href=\"/2021/placement/branch/519_students.html\">View</a></td><td><a href=\"/2021/placement/branch/519_companies.html\">View</a></td></tr><tr><td>18</td><td>B.Tech.</td><td>B.Tech. (Biotechnology)</td><td>20</td><td><a href=\"/2021/placement/branch/111_students.html\">View</a></td><td><a href=\"/2021/placement/branch/111_companies.html\">View</a></td></tr><tr><td>19</td><td>M.Tech.</td><td>M.Tech. Microelectronic and VLSI</td><td>7</td><td><a href=\"/2021/placement/branch/534_students.html\">View</a></td><td><a href=\"/2021/placement/branch/534_companies.html\">View</a></td></tr><tr><td>20</td><td>M.Sc.</td><td>M.Sc. Applied Geology</td><td>4</td><td><a href=\"/2021/placement/branch/612_students.html\">View</a></td><td><a href=\"/2021/placement/branch/612_companies.html\">View</a></td></tr><tr><td>21</td><td>M.Tech.</td><td>M.Tech. Computer Science and Engineering</td><td>29</td><td><a href=\"/2021/placement/branch/535_students.html\">View</a></td><td><a href=\"/2021/placement/branch/535_companies.html\">View</a></td></tr><tr><td>22</td><td>M.Tech.</td><td>M.Tech. Machine Design Engineering</td><td>9</td><td><a href=\"/2021/placement/branch/539_students.html\">View</a></td><td><a href=\"/2021/placement/branch/539_companies.html\">View</a></td></tr><tr><td>23</td><td>B.Arch.</td><td>B.Arch.</td><td>24</td><td><a href=\"/2021/placement/branch/110_students.html\">View</a></td><td><a href=\"/2021/placement/branch/110_companies.html\">View</a></td></tr><tr><td>24</td><td>M.Tech.</td><td>M.Tech. Materials Engineering</td><td>3</td><td><a href=\"/2021/placement/branch/545_students.html\">View</a></td><td><a href=\"/2021/placement/branch/545_companies.html\">View</a></td></tr><tr><td>25</td><td>M.Tech.</td><td>M.Tech. Communication Systems</td><td>7</td><td><a href=\"/2021/placement/branch/531_students.html\">View</a></td><td><a href=\"/2021/placement/branch/531_companies.html\">View</a></td></tr><tr><td>26</td><td>M.Tech.</td><td>M.Tech. Instrumentation and Signal Processing</td><td>10</td><td><a href=\"/2021/placement/branch/528_students.html\">View</a></td><td><a href=\"/2021/placement/branch/528_companies.html\">View</a></td></tr><tr><td>27</td><td>M.Tech.</td><td>M.Tech. Power System Engineering</td><td>5</td><td><a href=\"/2021/placement/branch/529_students.html\">View</a></td><td><a href=\"/2021/placement/branch/529_companies.html\">View</a></td></tr><tr><td>28</td><td>M.Tech.</td><td>M.Tech. RF and Microwave Engineering</td><td>4</td><td><a href=\"/2021/placement/branch/533_students.html\">View</a></td><td><a href=\"/2021/placement/branch/533_companies.html\">View</a></td></tr><tr><td>29</td><td>M.Tech.</td><td>M.Tech. Electric Drives and Power Electronics</td><td>7</td><td><a href=\"/2021/placement/branch/527_students.html\">View</a></td><td><a href=\"/2021/placement/branch/527_companies.html\">View</a></td></tr><tr><td>30</td><td>Int. M.Tech.</td><td>INTEGRATED DUAL DEGREE - B.TECH (Chemical Engineering) &amp; M.Tech.(Chemical Engineering)</td><td>1</td><td><a href=\"/2021/placement/branch/222_students.html\">View</a></td><td><a href=\"/2021/placement/branch/222_companies.html\">View</a></td></tr><tr><td>31</td><td>Int. M.Tech.</td><td>B.Tech. Engineering Physics &amp; M.Tech. Photonics</td><td>1</td><td><a href=\"/2021/placement/branch/224_students.html\">View</a></td><td><a href=\"/2021/placement/branch/224_companies.html\">View</a></td></tr><tr><td>32</td><td>M.Tech.</td><td>M.Tech. Thermal Engineering</td><td>4</td><td><a href=\"/2021/placement/branch/541_students.html\">View</a></td><td><a href=\"/2021/placement/branch/541_companies.html\">View</a></td></tr><tr><td>33</td><td>M.Tech.</td><td>M.Tech. CAD,CAM and Robotics</td><td>6</td><td><a href=\"/2021/placement/branch/538_students.html\">View</a></td><td><a href=\"/2021/placement/branch/538_companies.html\">View</a></td></tr><tr><td>34</td><td>Int. M.Sc.</td><td>Integrated M.Sc. Chemistry</td><td>1</td><td><a href=\"/2021/placement/branch/310_students.html\">View</a></td><td><a href=\"/2021/placement/branch/310_companies.html\">View</a></td></tr><tr><td>35</td><td>M.Tech.</td><td>M.Tech. Polymer Science and Engineering</td><td>2</td><td><a href=\"/2021/placement/branch/562_students.html\">View</a></td><td><a href=\"/2021/placement/branch/562_companies.html\">View</a></td></tr><tr><td>36</td><td>Int. M.Tech.</td><td>B.Tech Civil Engineering and M.Tech Environmental Engineering</td><td>1</td><td><a href=\"/2021/placement/branch/227_students.html\">View</a></td><td><a href=\"/2021/placement/branch/227_companies.html\">View</a></td></tr><tr><td>37</td><td>M.Tech.</td><td>M.Tech. Geomatics Engineering</td><td>8</td><td><a href=\"/2021/placement/branch/520_students.html\">View</a></td><td><a href=\"/2021/placement/branch/520_companies.html\">View</a></td></tr><tr><td>38</td><td>M.Sc.</td><td>M.Sc. Economics</td><td>11</td><td><a href=\"/2021/placement/branch/617_students.html\">View</a></td><td><a href=\"/2021/placement/branch/617_companies.html\">View</a></td></tr><tr><td>39</td><td>M.Tech.</td><td>M.Tech. Structural Engineering</td><td>8</td><td><a href=\"/2021/placement/branch/523_students.html\">View</a></td><td><a href=\"/2021/placement/branch/523_companies.html\">View</a></td></tr><tr><td>40</td><td>M.Tech.</td><td>M.Tech. Structural Dynamics</td><td>6</td><td><a href=\"/2021/placement/branch/526_students.html\">View</a></td><td><a href=\"/2021/placement/branch/526_companies.html\">View</a></td></tr><tr><td>41</td><td>M.Tech.</td><td>M.Tech. Industrial Metallurgy</td><td>1</td><td><a href=\"/2021/placement/branch/544_students.html\">View</a></td><td><a href=\"/2021/placement/branch/544_companies.html\">View</a></td></tr><tr><td>42</td><td>M.Tech.</td><td>M.Tech. Soil Dynamics</td><td>2</td><td><a href=\"/2021/placement/branch/525_students.html\">View</a></td><td><a href=\"/2021/placement/branch/525_companies.html\">View</a></td></tr><tr><td>43</td><td>M.Tech.</td><td>M.Tech. Water Resources Development</td><td>1</td><td><a href=\"/2021/placement/branch/548_students.html\">View</a></td><td><a href=\"/2021/placement/branch/548_companies.html\">View</a></td></tr><tr><td>44</td><td>M.Tech.</td><td>M.Tech. Pulp and Paper Engineering</td><td>7</td><td><a href=\"/2021/placement/branch/546_students.html\">View</a></td><td><a href=\"/2021/placement/branch/546_companies.html\">View</a></td></tr><tr><td>45</td><td>M.B.A.</td><td>Master of Business Administration</td><td>1</td><td><a href=\"/2021/placement/branch/810_students.html\">View</a></td><td><a href=\"/2021/placement/branch/810_companies.html\">View</a></td></tr><tr><td>46</td><td>M.Sc.</td><td>M.Sc. Mathematics</td><td>5</td><td><a href=\"/2021/placement/branch/616_students.html\">View</a></td><td><a href=\"/2021/placement/branch/616_companies.html\">View</a></td></tr><tr><td>47</td><td>M.Tech.</td><td>M.Tech. Surface Water Hydrology</td><td>3</td><td><a href=\"/2021/placement/branch/556_students.html\">View</a></td><td><a href=\"/2021/placement/branch/556_companies.html\">View</a></td></tr><tr><td>48</td><td>M.Tech.</td><td>M.Tech. Bioprocess Engineering</td><td>3</td><td><a href=\"/2021/placement/branch/559_students.html\">View</a></td><td><a href=\"/2021/placement/branch/559_companies.html\">View</a></td></tr><tr><td>49</td><td>M.Tech.</td><td>M.Tech. Chemical Engineering</td><td>2</td><td><a href=\"/2021/placement/branch/561_students.html\">View</a></td><td><a href=\"/2021/placement/branch/561_companies.html\">View</a></td></tr><tr><td>50</td><td>M.Tech.</td><td>M.Tech. Packaging Technology</td><td>4</td><td><a href=\"/2021/placement/branch/555_students.html\">View</a></td><td><a href=\"/2021/placement/branch/555_companies.html\">View</a></td></tr><tr><td>51</td><td>M.Tech.</td><td>M.Tech. Hydraulics Engineering</td><td>1</td><td><a href=\"/2021/placement/branch/522_students.html\">View</a></td><td><a href=\"/2021/placement/branch/522_companies.html\">View</a></td></tr><tr><td>52</td><td>M.Tech.</td><td>M.Tech. Production and Industrial Systems Engineering</td><td>2</td><td><a href=\"/2021/placement/branch/540_students.html\">View</a></td><td><a href=\"/2021/placement/branch/540_companies.html\">View</a></td></tr><tr><td>53</td><td>M.Sc.</td><td>M.Sc. Biotechnology</td><td>4</td><td><a href=\"/2021/placement/branch/610_students.html\">View</a></td><td><a href=\"/2021/placement/branch/610_companies.html\">View</a></td></tr><tr><td>54</td><td>M.Sc.</td><td>M.Sc. Physics</td><td>4</td><td><a href=\"/2021/placement/branch/615_students.html\">View</a></td><td><a href=\"/2021/placement/branch/615_companies.html\">View</a></td></tr><tr><td>55</td><td>Ph.D.</td><td>Ph.D. Applied Science and Engineering Department</td><td>1</td><td><a href=\"/2021/placement/branch/923_students.html\">View</a></td><td><a href=\"/2021/placement/branch/923_companies.html\">View</a></td></tr><tr><td>56</td><td>M.Tech.</td><td>M.Tech. Ground Water Hydrology</td><td>2</td><td><a href=\"/2021/placement/branch/557_students.html\">View</a></td><td><a href=\"/2021/placement/branch/557_companies.html\">View</a></td></tr><tr><td>57</td><td>M.Tech.</td><td>M.Tech. Disaster Mitigation and Management</td><td>1</td><td><a href=\"/2021/placement/branch/552_students.html\">View</a></td><td><a href=\"/2021/placement/branch/552_companies.html\">View</a></td></tr><tr><td>58</td><td>M.Tech.</td><td>M.Tech. Seismic Vulnerability and Risk Assessment</td><td>1</td><td><a href=\"/2021/placement/branch/553_students.html\">View</a></td><td><a href=\"/2021/placement/branch/553_companies.html\">View</a></td></tr><tr><td>59</td><td>Ph.D.</td><td>Ph.D. Mathematics Department</td><td>1</td><td><a href=\"/2021/placement/branch/919_students.html\">View</a></td><td><a href=\"/2021/placement/branch/919_companies.html\">View</a></td></tr><tr><td>60</td><td>M.Sc.</td><td>M.Sc. Chemistry</td><td>4</td><td><a href=\"/2021/placement/branch/611_students.html\">View</a></td><td><a href=\"/2021/placement/branch/611_companies.html\">View</a></td></tr><tr><td>61</td><td>M.Tech.</td><td>M.Tech. Irrigation Water Management</td><td>1</td><td><a href=\"/2021/placement/branch/547_students.html\">View</a></td><td><a href=\"/2021/placement/branch/547_companies.html\">View</a></td></tr><tr><td>62</td><td>Ph.D.</td><td>Ph.D. Mechanical and Industrial Engineering</td><td>1</td><td><a href=\"/2021/placement/branch/920_students.html\">View</a></td><td><a href=\"/2021/placement/branch/920_companies.html\">View</a></td></tr> </tbody>]\n"
     ]
    }
   ],
   "source": [
    "soup1=BeautifulSoup(htmlcontent1,'html.parser')\n",
    "tabletags=soup.find_all('tbody')\n",
    "print(tabletags)"
   ]
  },
  {
   "cell_type": "code",
   "execution_count": 49,
   "id": "1d2f0303",
   "metadata": {},
   "outputs": [
    {
     "name": "stdout",
     "output_type": "stream",
     "text": [
      "[<tbody><h2>Placement results for B.Tech. (Electrical Engineering)(2020-2021)</h2><tr><td>1</td><td>17117041</td><td>Kartica Modi</td><td>Microsoft (PPO)</td><td>Yes</td></tr><tr><td>2</td><td>17115081</td><td>Satyansh Kumar Rai</td><td>Jaguar Land Rover India (GSET) (Graduate Software Engineer Trainee)</td><td>Yes</td></tr><tr><td>3</td><td>17113096</td><td>Purvi Agarwal</td><td>Texas Instruments (PPO)</td><td>Yes</td></tr><tr><td>4</td><td>17115071</td><td>Raj Narnoli</td><td>Samsung Semiconductor India Research Center Bangalore (PPO)</td><td>Yes</td></tr><tr><td>5</td><td>17115079</td><td>Sarthak Gupta</td><td>Qualcomm India Pvt. Ltd. (PPO)</td><td>Yes</td></tr><tr><td>6</td><td>17115109</td><td>Vibhor Verma</td><td>Dream11 (Software Engineer)</td><td>Yes</td></tr><tr><td>7</td><td>17115033</td><td>Ebtasam Uddin Faridy</td><td>Myntra (PPO)</td><td>Yes</td></tr><tr><td>8</td><td>17115056</td><td>Mohit Kumar Gupta</td><td>ITC Limited (PPO)</td><td>Yes</td></tr><tr><td>9</td><td>17115076</td><td>Samarth Agarwal</td><td>Goldman Sachs (PPO)</td><td>Yes</td></tr><tr><td>10</td><td>17115091</td><td>Shreyansh Jain</td><td>Goldman Sachs (PPO)</td><td>Yes</td></tr><tr><td>11</td><td>17113048</td><td>Jatin Varshney</td><td>Adobe (Product - PPO)</td><td>Yes</td></tr><tr><td>12</td><td>17115104</td><td>Tanmaya Khandelwal</td><td>D. E. Shaw India Pvt. Ltd. (PPO)</td><td>Yes</td></tr><tr><td>13</td><td>17115004</td><td>Abhishek Karanath</td><td>Cisco Systems (SDE - PPO)</td><td>Yes</td></tr><tr><td>14</td><td>17115089</td><td>Shivansh Kumar</td><td>AppDynamics (SW - PPO)</td><td>Yes</td></tr><tr><td>15</td><td>17115050</td><td>Madugula Lohitha</td><td>Google (HW - PPO)</td><td>Yes</td></tr><tr><td>16</td><td>17115012</td><td>Anjaney Rai</td><td>Societe Generale Global Solution Center (PPO)</td><td>Yes</td></tr><tr><td>17</td><td>17115106</td><td>Tribhuvan Sharma</td><td>Samsung Research Institute, Bangalore (PPO)</td><td>Yes</td></tr><tr><td>18</td><td>17115078</td><td>Sanyam Agrawal</td><td>Samsung Research Institute, Bangalore (PPO)</td><td>Yes</td></tr><tr><td>19</td><td>17115001</td><td>Abhinav Byahut</td><td>Microsoft (Software Engineer)</td><td>No</td></tr><tr><td>20</td><td>17115019</td><td>Aryan Goyat</td><td>LG Ads (Technologist)</td><td>No</td></tr><tr><td>21</td><td>17115001</td><td>Abhinav Byahut</td><td>LG Ads (Technologist)</td><td>Yes</td></tr><tr><td>22</td><td>17115105</td><td>Tejas Gajanan Patil</td><td>LG Ads (Technologist)</td><td>Yes</td></tr><tr><td>23</td><td>17115053</td><td>Manoj Parihar</td><td>Microsoft (Software Engineer)</td><td>Yes</td></tr><tr><td>24</td><td>17115111</td><td>Vidit Agrawal</td><td>Microsoft (Software Engineer)</td><td>Yes</td></tr><tr><td>25</td><td>17115120</td><td>Yempati Bhavana</td><td>Microsoft (Software Engineer)</td><td>Yes</td></tr><tr><td>26</td><td>17115100</td><td>Suyash Jain</td><td>Microsoft (Software Engineer)</td><td>Yes</td></tr><tr><td>27</td><td>17115118</td><td>Vivek Harish Maheshwari</td><td>Microsoft (Software Engineer)</td><td>Yes</td></tr><tr><td>28</td><td>17115070</td><td>Rahul Kumar</td><td>Microsoft (Software Engineer)</td><td>Yes</td></tr><tr><td>29</td><td>17115019</td><td>Aryan Goyat</td><td>Goldman Sachs (Analyst)</td><td>Yes</td></tr><tr><td>30</td><td>17115040</td><td>Himani Jain</td><td>Goldman Sachs (Analyst)</td><td>Yes</td></tr><tr><td>31</td><td>17115026</td><td>Ayush Katiyar</td><td>AppDynamics (Software)</td><td>Yes</td></tr><tr><td>32</td><td>17115068</td><td>Purva Chiniya</td><td>Cisco Systems (SDE - FTE)</td><td>Yes</td></tr><tr><td>33</td><td>17115014</td><td>Ankit Bhati</td><td>Oracle India Pvt. Ltd. (Server Technology)</td><td>Yes</td></tr><tr><td>34</td><td>17115034</td><td>Etta Dheeraj Kumar Reddy</td><td>Bajaj Auto Ltd. (Graduate Trainee Engineer (GTE))</td><td>No</td></tr><tr><td>35</td><td>17115051</td><td>Malvika Agarwal</td><td>Flipkart (SDE-1)</td><td>Yes</td></tr><tr><td>36</td><td>17115024</td><td>Avneet Jain</td><td>Flipkart (SDE-1)</td><td>Yes</td></tr><tr><td>37</td><td>17115087</td><td>Shivam Nirmal</td><td>Jaguar Land Rover India (GEET) (Graduate Electronics Engineer Trainee)</td><td>Yes</td></tr><tr><td>38</td><td>17115093</td><td>Shubham Bihani</td><td>Jaguar Land Rover India (GEET) (Graduate Electronics Engineer Trainee)</td><td>Yes</td></tr><tr><td>39</td><td>17115034</td><td>Etta Dheeraj Kumar Reddy</td><td>Jaguar Land Rover India (GEET) (Graduate Electronics Engineer Trainee)</td><td>Yes</td></tr><tr><td>40</td><td>17115064</td><td>Potnuru Chanukya</td><td>Bajaj Auto Ltd. (Graduate Trainee Engineer (GTE))</td><td>Yes</td></tr><tr><td>41</td><td>17115103</td><td>Tanishk Saxena</td><td>Jaguar Land Rover India (GSET) (Graduate Software Engineer Trainee)</td><td>Yes</td></tr><tr><td>42</td><td>17115057</td><td>Mritunjay Gupta</td><td>Samsung Research Institute, Bangalore (Engineer (Developer))</td><td>Yes</td></tr><tr><td>43</td><td>17115031</td><td>Dhiraj Chhawchharia</td><td>Myntra (SE)</td><td>Yes</td></tr><tr><td>44</td><td>17115044</td><td>Jaiswal Shubham Vijaykumar</td><td>Myntra (SE)</td><td>Yes</td></tr><tr><td>45</td><td>17115107</td><td>Tushar Goyal</td><td>JP Morgan Chase &amp; Co (Software Engineer Program)</td><td>Yes</td></tr><tr><td>46</td><td>17115086</td><td>Shivam Chopra</td><td>Fractal Analytics Pvt. Ltd. (Imagineer)</td><td>No</td></tr><tr><td>47</td><td>17115114</td><td>Vipul Goel</td><td>American Express (SDE -Engineer Trainee, Technology)</td><td>No</td></tr><tr><td>48</td><td>17115029</td><td>Bijender</td><td>JioSaavn Media Ltd (Software Engineer)</td><td>Yes</td></tr><tr><td>49</td><td>17115049</td><td>Madhur Rawat</td><td>Fractal Analytics Pvt. Ltd. (Imagineer)</td><td>Yes</td></tr><tr><td>50</td><td>17115114</td><td>Vipul Goel</td><td>Deutsche Bank (Graduate Analyst)</td><td>Yes</td></tr><tr><td>51</td><td>17115074</td><td>Risana Rasheed K</td><td>Deutsche Bank (Graduate Analyst)</td><td>No</td></tr><tr><td>52</td><td>17115074</td><td>Risana Rasheed K</td><td>Enphase Energy (Embedded + Cloud)</td><td>Yes</td></tr><tr><td>53</td><td>17115037</td><td>Gourav Kumar</td><td>JioSaavn Media Ltd (Software Engineer)</td><td>Yes</td></tr><tr><td>54</td><td>17115017</td><td>Anshu Pratap Singh</td><td>JioSaavn Media Ltd (Software Engineer)</td><td>Yes</td></tr><tr><td>55</td><td>17115086</td><td>Shivam Chopra</td><td>BNY Mellon (Software)</td><td>No</td></tr><tr><td>56</td><td>17115108</td><td>Ujjawal Sharma</td><td>Paytm (Software Engineer)</td><td>No</td></tr><tr><td>57</td><td>17115075</td><td>Rounik Balida</td><td>Citrix R&amp;D India PVT LTD (Software Engineer 1 &amp; 2)</td><td>Yes</td></tr><tr><td>58</td><td>17115049</td><td>Madhur Rawat</td><td>Citrix R&amp;D India PVT LTD (Software Engineer 1 &amp; 2)</td><td>No</td></tr><tr><td>59</td><td>17115003</td><td>Abhishek Bhadauria</td><td>Citrix R&amp;D India PVT LTD (Software Engineer 1 &amp; 2)</td><td>Yes</td></tr><tr><td>60</td><td>17115090</td><td>Shivanshu Gupta</td><td>BNY Mellon (Software)</td><td>Yes</td></tr><tr><td>61</td><td>17115086</td><td>Shivam Chopra</td><td>Societe Generale Global Solution Center (Software Engineer)</td><td>Yes</td></tr><tr><td>62</td><td>17115108</td><td>Ujjawal Sharma</td><td>Societe Generale Global Solution Center (Software Engineer)</td><td>Yes</td></tr><tr><td>63</td><td>17115069</td><td>Rahul Avinash Badwaik</td><td>Societe Generale Global Solution Center (Software Engineer)</td><td>Yes</td></tr><tr><td>64</td><td>17115030</td><td>Deepak Kumar</td><td>Societe Generale Global Solution Center (Software Engineer)</td><td>Yes</td></tr><tr><td>65</td><td>17115010</td><td>Alankrit Mahajan</td><td>EXL Service (Consultant I)</td><td>Yes</td></tr><tr><td>66</td><td>17115047</td><td>Kartik Chhimpa</td><td>EXL Service (Consultant I)</td><td>Yes</td></tr><tr><td>67</td><td>17115054</td><td>Mihir Narayan</td><td>Nference (Software Engineer / Data Science)</td><td>Yes</td></tr><tr><td>68</td><td>17115099</td><td>Sushil Kumar</td><td>Fareye (SDE)</td><td>Yes</td></tr><tr><td>69</td><td>17115046</td><td>Jeetendra Kumar</td><td>Fareye (SDE)</td><td>Yes</td></tr><tr><td>70</td><td>17117079</td><td>Shreeyash Geda</td><td>Bidgely (PPO)</td><td>Yes</td></tr><tr><td>71</td><td>17115038</td><td>Harshit Khetan</td><td>Flipkart (PPO)</td><td>Yes</td></tr><tr><td>72</td><td>17115077</td><td>Sanjeev</td><td>Swiggy-Bundl Technologies Pvt. Ltd. (SDE 1)</td><td>Yes</td></tr><tr><td>73</td><td>17115058</td><td>Navin Chandra Rai</td><td>Vedantu (SDE)</td><td>Yes</td></tr><tr><td>74</td><td>17115084</td><td>Shashank Gupta</td><td>Innoplexus (Associate Data Scientist)</td><td>Yes</td></tr><tr><td>75</td><td>17115119</td><td>Vivek Kumar</td><td>Effiya (Consulting)</td><td>Yes</td></tr><tr><td>76</td><td>17115072</td><td>Rajan Kumar</td><td>Larsen &amp; Toubro Infotech Limited (Data Engineer)</td><td>Yes</td></tr><tr><td>77</td><td>17115097</td><td>Sudhir Rose</td><td>GE Healthcare (PPO)</td><td>Yes</td></tr><tr><td>78</td><td>17115032</td><td>Dinesh Pundlik Chavan</td><td>Chegg Inc (Software Engineer)</td><td>Yes</td></tr><tr><td>79</td><td>17115021</td><td>Ashish Anand</td><td>Times Internet Limited - ILN (Software Development)</td><td>Yes</td></tr><tr><td>80</td><td>17115022</td><td>Ashutosh Kumar Shukla</td><td>Quantiphi Analytics Solution Private Limited (Machine Learning Engineer,  Business Analyst)</td><td>Yes</td></tr><tr><td>81</td><td>17115009</td><td>Akash Verma</td><td>V3iT Consulting (Junior Software Engineer)</td><td>Yes</td></tr><tr><td>82</td><td>17115013</td><td>Ankit</td><td>Finnovation Tech Solutions Pvt. Ltd (Kreditbee/Krazybee) (Software Engg)</td><td>Yes</td></tr><tr><td>83</td><td>17115045</td><td>Jayti Saumya</td><td>Finnovation Tech Solutions Pvt. Ltd (Kreditbee/Krazybee) (Software Engg)</td><td>Yes</td></tr><tr><td>84</td><td>17115042</td><td>Ishneet Dhiman</td><td>MIKO (Jr. AI Development &amp; NLP Engineer)</td><td>Yes</td></tr><tr><td>85</td><td>17115036</td><td>Gomati Prasad</td><td>CSRL (Academic Officer)</td><td>Yes</td></tr><tr><td>86</td><td>17115059</td><td>Nishant</td><td>Go Lorry Pvt Ltd (Frontend (Android and React) Engineer)</td><td>Yes</td></tr><tr><td>87</td><td>17115011</td><td>Aman Barya</td><td>Brigosha Technologies (Software Engineer (E-Mobilty and IoT))</td><td>Yes</td></tr><tr><td>88</td><td>17115092</td><td>Shruti Prafulla Nale</td><td>Cubastion Consulting (Associate Consultant)</td><td>Yes</td></tr><tr><td>89</td><td>17115043</td><td>Jagarlamudi Rajesh</td><td>HCL Technologies (ERS Software Engineer(HnC))</td><td>Yes</td></tr><tr><td>90</td><td>17115062</td><td>Parepalli Tharun Kumar</td><td>Netcracker Technology (Associate , Software Engineer)</td><td>No</td></tr><tr><td>91</td><td>17115006</td><td>Abhishek Sunil Pawar</td><td>Koo App (Bombinate Technologies Pvt. Ltd.) (Backend/iOS/Android Engineers)</td><td>Yes</td></tr><tr><td>92</td><td>17115008</td><td>Akash Kumar Yadav</td><td>SmartCoin Financials Pvt. Ltd. (Software Engineering,  Quality Engineering ,  Backend Engineering)</td><td>Yes</td></tr><tr><td>93</td><td>17115039</td><td>Harshit Yadav</td><td>SmartCoin Financials Pvt. Ltd. (Software Engineering,  Quality Engineering ,  Backend Engineering)</td><td>Yes</td></tr><tr><td>94</td><td>17115113</td><td>Vikram</td><td>Campus Management International Pvt Ltd (Software Developer)</td><td>Yes</td></tr><tr><td>95</td><td>17115052</td><td>Mangat Murmu</td><td>HCL Technologies Ltd. (Software Engineer)</td><td>Yes</td></tr><tr><td>96</td><td>17115096</td><td>Sourabh Prakash</td><td>HCL Technologies Ltd. (Software Engineer)</td><td>Yes</td></tr> </tbody>]\n"
     ]
    }
   ],
   "source": [
    "for tr in soup1.find_all('table'):\n",
    "    tr=soup1.find_all('tbody')\n",
    "    print(tr)"
   ]
  },
  {
   "cell_type": "code",
   "execution_count": 31,
   "id": "94c17177",
   "metadata": {},
   "outputs": [],
   "source": [
    "table = soup.find(\"table\")\n",
    "rows = table.findAll('tr')\n",
    "data = [[td.findChildren(text=True) for td in tr.findAll(\"td\")] for tr in rows]"
   ]
  },
  {
   "cell_type": "code",
   "execution_count": 32,
   "id": "d417e8cd",
   "metadata": {},
   "outputs": [
    {
     "name": "stdout",
     "output_type": "stream",
     "text": [
      "[[], [['1'], ['B.Tech.'], ['B.Tech. (Metallurgical & Materials Engineering)'], ['55'], ['View'], ['View']], [['2'], ['B.Tech.'], ['B.Tech. (Production and Industrial Engineering)'], ['33'], ['View'], ['View']], [['3'], ['Int. M.Sc.'], ['IMSc Applied Mathematics'], ['24'], ['View'], ['View']], [['4'], ['B.Tech.'], ['B.Tech. (Computer Science and Engineering)'], ['84'], ['View'], ['View']], [['5'], ['B.Tech.'], ['B.Tech. (Electrical Engineering)'], ['124'], ['View'], ['View']], [['6'], ['B.Tech.'], ['B.Tech. (Electronics & Communication Engineering)'], ['86'], ['View'], ['View']], [['7'], ['B.Tech.'], ['B.Tech. (Civil Engineering)'], ['93'], ['View'], ['View']], [['8'], ['B.Tech.'], ['B.Tech. (Mechanical Engineering)'], ['103'], ['View'], ['View']], [['9'], ['Int. M.Tech'], ['Integrated M.Tech. Geophysical Technology'], ['26'], ['View'], ['View']], [['10'], ['B.Tech.'], ['B.Tech. (Chemical Engineering)'], ['86'], ['View'], ['View']], [['11'], ['B.Tech.'], ['B.Tech. (Engineering Physics)'], ['19'], ['View'], ['View']], [['12'], ['Int. M.Tech'], ['Integrated M.Tech. Geological Technology'], ['23'], ['View'], ['View']], [['13'], ['B.Tech.'], ['B.Tech. (Polymer Science and Engineering)'], ['15'], ['View'], ['View']], [['14'], ['Int. M.Sc.'], ['IMSc Physics'], ['16'], ['View'], ['View']], [['15'], ['Ph.D.'], ['Ph.D. Electrical Engineering Department'], ['4'], ['View'], ['View']], [['16'], ['M.Tech.'], ['M.Tech. System and Control'], ['6'], ['View'], ['View']], [['17'], ['M.Tech.'], ['M.Tech. Environmental Engineering'], ['2'], ['View'], ['View']], [['18'], ['B.Tech.'], ['B.Tech. (Biotechnology)'], ['20'], ['View'], ['View']], [['19'], ['M.Tech.'], ['M.Tech. Microelectronic and VLSI'], ['7'], ['View'], ['View']], [['20'], ['M.Sc.'], ['M.Sc. Applied Geology'], ['4'], ['View'], ['View']], [['21'], ['M.Tech.'], ['M.Tech. Computer Science and Engineering'], ['29'], ['View'], ['View']], [['22'], ['M.Tech.'], ['M.Tech. Machine Design Engineering'], ['9'], ['View'], ['View']], [['23'], ['B.Arch.'], ['B.Arch.'], ['24'], ['View'], ['View']], [['24'], ['M.Tech.'], ['M.Tech. Materials Engineering'], ['3'], ['View'], ['View']], [['25'], ['M.Tech.'], ['M.Tech. Communication Systems'], ['7'], ['View'], ['View']], [['26'], ['M.Tech.'], ['M.Tech. Instrumentation and Signal Processing'], ['10'], ['View'], ['View']], [['27'], ['M.Tech.'], ['M.Tech. Power System Engineering'], ['5'], ['View'], ['View']], [['28'], ['M.Tech.'], ['M.Tech. RF and Microwave Engineering'], ['4'], ['View'], ['View']], [['29'], ['M.Tech.'], ['M.Tech. Electric Drives and Power Electronics'], ['7'], ['View'], ['View']], [['30'], ['Int. M.Tech.'], ['INTEGRATED DUAL DEGREE - B.TECH (Chemical Engineering) & M.Tech.(Chemical Engineering)'], ['1'], ['View'], ['View']], [['31'], ['Int. M.Tech.'], ['B.Tech. Engineering Physics & M.Tech. Photonics'], ['1'], ['View'], ['View']], [['32'], ['M.Tech.'], ['M.Tech. Thermal Engineering'], ['4'], ['View'], ['View']], [['33'], ['M.Tech.'], ['M.Tech. CAD,CAM and Robotics'], ['6'], ['View'], ['View']], [['34'], ['Int. M.Sc.'], ['Integrated M.Sc. Chemistry'], ['1'], ['View'], ['View']], [['35'], ['M.Tech.'], ['M.Tech. Polymer Science and Engineering'], ['2'], ['View'], ['View']], [['36'], ['Int. M.Tech.'], ['B.Tech Civil Engineering and M.Tech Environmental Engineering'], ['1'], ['View'], ['View']], [['37'], ['M.Tech.'], ['M.Tech. Geomatics Engineering'], ['8'], ['View'], ['View']], [['38'], ['M.Sc.'], ['M.Sc. Economics'], ['11'], ['View'], ['View']], [['39'], ['M.Tech.'], ['M.Tech. Structural Engineering'], ['8'], ['View'], ['View']], [['40'], ['M.Tech.'], ['M.Tech. Structural Dynamics'], ['6'], ['View'], ['View']], [['41'], ['M.Tech.'], ['M.Tech. Industrial Metallurgy'], ['1'], ['View'], ['View']], [['42'], ['M.Tech.'], ['M.Tech. Soil Dynamics'], ['2'], ['View'], ['View']], [['43'], ['M.Tech.'], ['M.Tech. Water Resources Development'], ['1'], ['View'], ['View']], [['44'], ['M.Tech.'], ['M.Tech. Pulp and Paper Engineering'], ['7'], ['View'], ['View']], [['45'], ['M.B.A.'], ['Master of Business Administration'], ['1'], ['View'], ['View']], [['46'], ['M.Sc.'], ['M.Sc. Mathematics'], ['5'], ['View'], ['View']], [['47'], ['M.Tech.'], ['M.Tech. Surface Water Hydrology'], ['3'], ['View'], ['View']], [['48'], ['M.Tech.'], ['M.Tech. Bioprocess Engineering'], ['3'], ['View'], ['View']], [['49'], ['M.Tech.'], ['M.Tech. Chemical Engineering'], ['2'], ['View'], ['View']], [['50'], ['M.Tech.'], ['M.Tech. Packaging Technology'], ['4'], ['View'], ['View']], [['51'], ['M.Tech.'], ['M.Tech. Hydraulics Engineering'], ['1'], ['View'], ['View']], [['52'], ['M.Tech.'], ['M.Tech. Production and Industrial Systems Engineering'], ['2'], ['View'], ['View']], [['53'], ['M.Sc.'], ['M.Sc. Biotechnology'], ['4'], ['View'], ['View']], [['54'], ['M.Sc.'], ['M.Sc. Physics'], ['4'], ['View'], ['View']], [['55'], ['Ph.D.'], ['Ph.D. Applied Science and Engineering Department'], ['1'], ['View'], ['View']], [['56'], ['M.Tech.'], ['M.Tech. Ground Water Hydrology'], ['2'], ['View'], ['View']], [['57'], ['M.Tech.'], ['M.Tech. Disaster Mitigation and Management'], ['1'], ['View'], ['View']], [['58'], ['M.Tech.'], ['M.Tech. Seismic Vulnerability and Risk Assessment'], ['1'], ['View'], ['View']], [['59'], ['Ph.D.'], ['Ph.D. Mathematics Department'], ['1'], ['View'], ['View']], [['60'], ['M.Sc.'], ['M.Sc. Chemistry'], ['4'], ['View'], ['View']], [['61'], ['M.Tech.'], ['M.Tech. Irrigation Water Management'], ['1'], ['View'], ['View']], [['62'], ['Ph.D.'], ['Ph.D. Mechanical and Industrial Engineering'], ['1'], ['View'], ['View']]]\n"
     ]
    }
   ],
   "source": [
    "print(data)"
   ]
  }
 ],
 "metadata": {
  "kernelspec": {
   "display_name": "Python 3 (ipykernel)",
   "language": "python",
   "name": "python3"
  },
  "language_info": {
   "codemirror_mode": {
    "name": "ipython",
    "version": 3
   },
   "file_extension": ".py",
   "mimetype": "text/x-python",
   "name": "python",
   "nbconvert_exporter": "python",
   "pygments_lexer": "ipython3",
   "version": "3.9.7"
  }
 },
 "nbformat": 4,
 "nbformat_minor": 5
}
